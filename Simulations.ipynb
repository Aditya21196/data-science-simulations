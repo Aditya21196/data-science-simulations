{
 "cells": [
  {
   "cell_type": "code",
   "execution_count": 10,
   "id": "88446e8f",
   "metadata": {},
   "outputs": [],
   "source": [
    "import random\n",
    "import numpy as np"
   ]
  },
  {
   "cell_type": "markdown",
   "id": "b7edebc9",
   "metadata": {},
   "source": [
    "## Let's start with a very simple problem statement. If we flip a coin a 10 times, how many times do we get heads on an average?\n",
    "\n",
    "### Well duh. 5 is the answer. It looks simple but trust me, things can get a lot more complicated. It's better to start simple so we can understand the framework a bit better"
   ]
  },
  {
   "cell_type": "code",
   "execution_count": 3,
   "id": "b488e217",
   "metadata": {},
   "outputs": [
    {
     "name": "stdout",
     "output_type": "stream",
     "text": [
      "on an average, we got 5.06 heads\n"
     ]
    }
   ],
   "source": [
    "num_sim = 100 # This is how many times we do the simulation\n",
    "\n",
    "total_sims = 0\n",
    "total_heads = 0\n",
    "\n",
    "for sim_idx in range(num_sim):\n",
    "    \n",
    "    ### A single simulation starts ###\n",
    "    num_heads = 0\n",
    "    for i in range(10):\n",
    "        coin_category = random.randint(0,1) # we denote 0 as heads and 1 as tails\n",
    "        if coin_category == 0:\n",
    "            num_heads += 1\n",
    "    ### A single simulation ends ###\n",
    "            \n",
    "    total_heads += num_heads\n",
    "    total_sims += 1\n",
    "\n",
    "print(f'on an average, we got {total_heads/total_sims} heads')"
   ]
  },
  {
   "cell_type": "markdown",
   "id": "adec32eb",
   "metadata": {},
   "source": [
    "### First things first. What are we trying to do here? Well we are carrying out 100 trials of an experiment. In each trial, we flip a coin 10 times and count the number of heads we get. \n",
    "\n",
    "### If you run this code block multiple times, you will see that you get a different answer each time but the answer tends to be around 5 all the time\n",
    "\n",
    "### This is because our number of experiments isn't enough for a very precise answer. Let's try increasing number of simulations"
   ]
  },
  {
   "cell_type": "code",
   "execution_count": 4,
   "id": "867ed627",
   "metadata": {},
   "outputs": [
    {
     "name": "stdout",
     "output_type": "stream",
     "text": [
      "on an average, we got 5.0069 heads\n"
     ]
    }
   ],
   "source": [
    "num_sim = 10000 # This is how many times we do the simulation\n",
    "\n",
    "total_sims = 0\n",
    "total_heads = 0\n",
    "\n",
    "for sim_idx in range(num_sim):\n",
    "    \n",
    "    ### A single simulation starts ###\n",
    "    num_heads = 0\n",
    "    for i in range(10):\n",
    "        coin_category = random.randint(0,1) # we denote 0 as heads and 1 as tails\n",
    "        if coin_category == 0:\n",
    "            num_heads += 1\n",
    "    ### A single simulation ends ###\n",
    "            \n",
    "    total_heads += num_heads\n",
    "    total_sims += 1\n",
    "\n",
    "print(f'on an average, we got {total_heads/total_sims} heads')"
   ]
  },
  {
   "cell_type": "markdown",
   "id": "6e3969b8",
   "metadata": {},
   "source": [
    "### Now, the answer would be a lot closer to 5. Simply put, more experiments help us be more accurate."
   ]
  },
  {
   "cell_type": "markdown",
   "id": "438f76a6",
   "metadata": {},
   "source": [
    "## Let's try something a bit more contested. Ever heard of the Monty Hall problem? \n",
    "\n",
    "### A quick recap: Suppose you're on a game show, and you're given the choice of three doors: Behind one door is a car; behind the others, goats. You pick a door, say No. 1, and the host, who knows what's behind the doors, opens another door, say No. 3, which has a goat. He then says to you, \"Do you want to pick door No. 2?\" Is it to your advantage to switch your choice?\n",
    "\n",
    "### This problem was addressed by Marilyn vos Savant, an American magazine columnist with highest recorded IQ in Guiness book of records. As per her answer, switching improves the odds to 2/3 but she recevied a lot of backlash for this claim. Marilyn received thousands of letters from her readers many of whom were PhDs who disagreed with her answer. Was she really right? Let's find out.\n",
    "\n",
    "### We can simulate the Monty Hall problem using a pseudo-random simulation. Let's try 10^4 simulations so that we can get a more precise answer"
   ]
  },
  {
   "cell_type": "code",
   "execution_count": 5,
   "id": "9777c9e4",
   "metadata": {},
   "outputs": [
    {
     "name": "stdout",
     "output_type": "stream",
     "text": [
      "Are we switching? True then winning percentage is 66.5%\n"
     ]
    }
   ],
   "source": [
    "\n",
    "num_sim = int(1e4)\n",
    "switch = True\n",
    "jackpot_count = 0\n",
    "\n",
    "for sim in range(num_sim):\n",
    "    # door chosen: A random door holds the prize\n",
    "    door = random.randint(0,2)\n",
    "    \n",
    "    # actual choice: We choose a random door to begin with\n",
    "    choose = random.randint(0,2)\n",
    "    \n",
    "    # monty chooses a door to open\n",
    "    all_choices = set([0,1,2])\n",
    "    all_choices.discard(choose) # Obviously no point in opening an already opened door\n",
    "    all_choices.discard(door) # There is no way Monty is revealing the prize\n",
    "    monty_opens = random.choice(list(all_choices)) # Monty chooses a random door which doesn't have the prize behind\n",
    "    \n",
    "    # do you switch?\n",
    "    if switch:\n",
    "        all_choices = set([0,1,2])\n",
    "        all_choices.discard(monty_opens) # if you choose to switch, you aren't going to choose the door monty opened\n",
    "        all_choices.discard(choose) # you are switching so not going to choose the originally chosen door\n",
    "        choose = random.choice(list(all_choices)) # should have just one choice at this point\n",
    "    \n",
    "    # did we win?\n",
    "    if choose == door:\n",
    "        jackpot_count += 1\n",
    "        \n",
    "print(f'Are we switching? {switch} then winning percentage is {jackpot_count/num_sim*100}%')"
   ]
  },
  {
   "cell_type": "markdown",
   "id": "1736c87c",
   "metadata": {},
   "source": [
    "### Voilà! Marilyn was indeed right. If you flip the boolean \"switch\" in the above code block to False and execute it again, you will see that answer becomes close to 33.33% i.e 1/3"
   ]
  },
  {
   "cell_type": "markdown",
   "id": "2d7ff7d8",
   "metadata": {},
   "source": [
    "### Alright. Now let's try something which progressively shows that this technique is actually useful. Consider the gambler's ruin problem. To state this problem:\n",
    "\n",
    "### \"Consider a gambler who starts with an initial fortune of \\\\$1 and then on each successive gamble either wins \\\\$1 or loses \\\\$1 independent of the past with probabilities p and q = 1−p respectively. Let Rn denote the total fortune after the nth gamble. The gambler’s objective is to reach a total fortune of \\\\$N, without first getting ruined (running out of money). If the gambler succeeds, then the gambler is said to win the game\"\n",
    "\n",
    "### To get an idea of how this can be solved using math axioms, refer this link: http://www.columbia.edu/~ks20/FE-Notes/4700-07-Notes-GR.pdf. But is there a simpler way?\n",
    "\n",
    "### Let me make a claim first: The most precise answer can be found using mathetical proofs and axioms but when too many hidden variables are involved, it might take someone their lifetime to come up with those mathematical proofs. That is when people start relying on methods which are more practical but a wee bit less precise. In the current scenario, we will leverage pseudo-random simulations yet again to estimate a solution to gambler's ruin."
   ]
  },
  {
   "cell_type": "code",
   "execution_count": 7,
   "id": "700ce33c",
   "metadata": {},
   "outputs": [
    {
     "name": "stdout",
     "output_type": "stream",
     "text": [
      "Help on built-in function random:\n",
      "\n",
      "random() method of random.Random instance\n",
      "    random() -> x in the interval [0, 1).\n",
      "\n"
     ]
    }
   ],
   "source": [
    "help(random.random)"
   ]
  },
  {
   "cell_type": "code",
   "execution_count": 29,
   "id": "2c425d71",
   "metadata": {},
   "outputs": [
    {
     "name": "stdout",
     "output_type": "stream",
     "text": [
      "The chance of gambler getting ruined is 11.13%\n"
     ]
    }
   ],
   "source": [
    "# Gambler's Ruin\n",
    "\n",
    "num_sim = int(1e6) # total number of times we run this simulation. Higher number means greater precision\n",
    "win_prob = 0.9 # chance of gambler winning a gamble\n",
    "N = 5 # amount at which gambler will be satisfied and stop gambling\n",
    "num_ruined = 0 # number of times gambler got ruined in all of the simulations\n",
    "start_amount = 1 # amount of money the gambler starts with\n",
    "\n",
    "for _ in range(num_sim):\n",
    "    money_in_the_bank = start_amount # start with $1\n",
    "    \n",
    "    while money_in_the_bank>0 and money_in_the_bank<N:\n",
    "        if random.random()<win_prob:\n",
    "            # won this round\n",
    "            money_in_the_bank += 1\n",
    "        else:\n",
    "            # lost this round\n",
    "            money_in_the_bank -= 1\n",
    "        \n",
    "        if money_in_the_bank == 0:\n",
    "            # runied!\n",
    "            num_ruined += 1\n",
    "\n",
    "print(f'The chance of gambler getting ruined is {round(num_ruined/num_sim*100,2)}%')"
   ]
  },
  {
   "cell_type": "markdown",
   "id": "0a322e0a",
   "metadata": {},
   "source": [
    "### To answer the previously posed question: Yes there is. But it requires computational power and is more prone to errors. At the same time though, it is an acceptable way to find an approximate solution as long as there aren't too many hidden RVs. "
   ]
  },
  {
   "cell_type": "markdown",
   "id": "b9d3ade9",
   "metadata": {},
   "source": [
    "### Let's now consider a case for which we don't really have mathematical theory. Consider this problem:\n",
    "\n",
    "### A pegboard is arranged like a triangle with 1st peg on level 1, 3 pegs on level 2, 5 pegs on level 3 and so on. All the pegs are symmetrically arranged around the central peg and all central pegs are on the same axis. We drop a ball on the top of the pegboard. As the ball hits a peg, there is a 50% chance of the ball going left or it goes right otherwise. It is assumed that when the ball falls to a peg at the next level, it always falls onto an adjacent peg on the lower level. A question could be framed here: What are the chances that the ball crosses the 10th peg on the right without ever crossing a peg on the left? \n",
    "\n",
    "### This problem is essentially the gambler's ruin getting rephrased so we can probably solve it using the same theorems established for gambler's ruin. But wait, there's more. What if the problem gets more complicated?\n",
    "\n",
    "### Consider the situation in which when a ball falls on the right, it gains \"momentum\" i.e if the ball had gone right in the previous run, the chances of the ball going right increase by 0.01 on the next run. At this point, it becomes a lot harder to solve using probability theory. But you know what? Pseudo-random simulations can still work!"
   ]
  },
  {
   "cell_type": "code",
   "execution_count": 38,
   "id": "82b62a85",
   "metadata": {},
   "outputs": [
    {
     "name": "stdout",
     "output_type": "stream",
     "text": [
      "probability of the ball reaching to 10 is approximately 26.11%\n"
     ]
    }
   ],
   "source": [
    "# This demonstration takes inspiration from one of NYU CDS DS-GA 1001 Lab sessions\n",
    "# Credit to Prof. Pascal Wallisch\n",
    "\n",
    "num_sim = int(1e6) # total number of simulations\n",
    "prob_right_start = 0.5 # the probability of ball falling right (beginning)\n",
    "momentum = 0.05 # This is a measure of the momnentum that ball gains when it falls in a certain direction\n",
    "target = 10 # How far the ball needs to go to reach its target\n",
    "reached_target = 0 # number of times target was reached in all of our simluations\n",
    "\n",
    "\n",
    "for _ in range(num_sim):\n",
    "    position = 0\n",
    "    prob_right = prob_right_start\n",
    "    \n",
    "    while position>=0 and position<target:\n",
    "        if random.random()<prob_right:\n",
    "            position += 1 # the ball falls right\n",
    "            prob_right += momentum # greater chance of going right when the balls falls onto next level of pegs\n",
    "        else:\n",
    "            position -= 1 # the ball falls left\n",
    "            prob_right -= momentum # lesser chance of going right when the balls falls onto next level of pegs\n",
    "    \n",
    "    if position == target:\n",
    "        # target was reached!\n",
    "        reached_target += 1\n",
    "\n",
    "print(f'probability of the ball reaching to {target} is approximately {round(reached_target/num_sim*100,2)}%')"
   ]
  },
  {
   "cell_type": "markdown",
   "id": "f9896af8",
   "metadata": {},
   "source": [
    "### So why were we able to solve the problem even though we didn't work out a mathematical proof for the solution? Well that's because we traded precision for a solution which requires less domain knowledge to implement.\n",
    "\n",
    "### This essentially points towards what Data Scientists are supposed to excel at. They need to be able to solve real life problems without explicit domain knowledge. The best Data Scientists are able achieve very little loss of precision and are able to help companies arrive at solutions to very complicated problems very fast. Do you, the reader have every tool required in your arsenal to be such an individual?"
   ]
  },
  {
   "cell_type": "code",
   "execution_count": null,
   "id": "1a0440a3",
   "metadata": {},
   "outputs": [],
   "source": []
  }
 ],
 "metadata": {
  "kernelspec": {
   "display_name": "Python 3 (ipykernel)",
   "language": "python",
   "name": "python3"
  },
  "language_info": {
   "codemirror_mode": {
    "name": "ipython",
    "version": 3
   },
   "file_extension": ".py",
   "mimetype": "text/x-python",
   "name": "python",
   "nbconvert_exporter": "python",
   "pygments_lexer": "ipython3",
   "version": "3.9.12"
  }
 },
 "nbformat": 4,
 "nbformat_minor": 5
}
